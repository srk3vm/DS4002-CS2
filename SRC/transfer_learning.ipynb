{
  "nbformat": 4,
  "nbformat_minor": 0,
  "metadata": {
    "colab": {
      "provenance": [],
      "machine_shape": "hm",
      "gpuType": "V100"
    },
    "kernelspec": {
      "name": "python3",
      "display_name": "Python 3"
    },
    "language_info": {
      "name": "python"
    },
    "accelerator": "GPU"
  },
  "cells": [
    {
      "cell_type": "markdown",
      "source": [
        "# Data Cleaning"
      ],
      "metadata": {
        "id": "b3OcvsmDINKQ"
      }
    },
    {
      "cell_type": "code",
      "execution_count": 1,
      "metadata": {
        "id": "CwUnu9nNCf3h"
      },
      "outputs": [],
      "source": [
        "import numpy as np\n",
        "import tensorflow as tf\n",
        "import os\n",
        "from tensorflow.keras.preprocessing.image import ImageDataGenerator\n",
        "from tensorflow.keras.applications import MobileNetV2\n",
        "from tensorflow.keras.models import Sequential\n",
        "from tensorflow.keras.layers import Dense, Flatten, Dropout\n",
        "from tensorflow.keras.optimizers import Adam"
      ]
    },
    {
      "cell_type": "code",
      "source": [
        "tf.compat.v1.enable_eager_execution()"
      ],
      "metadata": {
        "id": "MjqZwj3toO70"
      },
      "execution_count": 2,
      "outputs": []
    },
    {
      "cell_type": "code",
      "source": [
        "from google.colab import drive\n",
        "drive.mount('/content/drive')"
      ],
      "metadata": {
        "colab": {
          "base_uri": "https://localhost:8080/"
        },
        "id": "4isihc_11Yks",
        "outputId": "a0c957ed-d342-4c62-f260-ec43616d32b8"
      },
      "execution_count": 3,
      "outputs": [
        {
          "output_type": "stream",
          "name": "stdout",
          "text": [
            "Mounted at /content/drive\n"
          ]
        }
      ]
    },
    {
      "cell_type": "code",
      "source": [
        "def find_min_max_dimensions(directory):\n",
        "    max_height = 0\n",
        "    max_width = 0\n",
        "    min_height = float('inf')\n",
        "    min_width = float('inf')\n",
        "\n",
        "    # Loop through all files in the directory and its subdirectories\n",
        "    for subdir, _, files in os.walk(directory):\n",
        "        for file in files:\n",
        "            if file.endswith(('.jpg', '.jpeg', '.png')):  # Check common image extensions\n",
        "                img_path = os.path.join(subdir, file)\n",
        "                height, width = get_image_dimensions(img_path)\n",
        "\n",
        "                # Update max dimensions\n",
        "                max_height = max(max_height, height)\n",
        "                max_width = max(max_width, width)\n",
        "\n",
        "                # Update min dimensions\n",
        "                min_height = min(min_height, height)\n",
        "                min_width = min(min_width, width)\n",
        "\n",
        "    return min_height, min_width, max_height, max_width"
      ],
      "metadata": {
        "id": "P9bOxwoLIfmC"
      },
      "execution_count": null,
      "outputs": []
    },
    {
      "cell_type": "code",
      "source": [
        "root_directory = 'drive/MyDrive/scans'\n",
        "min_height, min_width, max_height, max_width = find_min_max_dimensions(root_directory)\n",
        "\n",
        "print(f\"Min Height: {min_height}, Min Width: {min_width}\")\n",
        "print(f\"Max Height: {max_height}, Max Width: {max_width}\")"
      ],
      "metadata": {
        "colab": {
          "base_uri": "https://localhost:8080/"
        },
        "id": "wGnRMQDRTL8Y",
        "outputId": "28ee7636-8edc-4328-e56d-576cbd596d5e"
      },
      "execution_count": null,
      "outputs": [
        {
          "output_type": "stream",
          "name": "stdout",
          "text": [
            "Min Height: 310, Min Width: 190\n",
            "Max Height: 719, Max Width: 1048\n"
          ]
        }
      ]
    },
    {
      "cell_type": "code",
      "source": [
        "def resize_and_pad_image(img_path, target_size=224):\n",
        "    # Load the image\n",
        "    img = tf.io.read_file(img_path)\n",
        "    img = tf.image.decode_jpeg(img, channels=3)\n",
        "    img = tf.image.convert_image_dtype(img, dtype=tf.float32)\n",
        "\n",
        "    # Calculate the aspect ratio and resize\n",
        "    original_height, original_width, _ = img.shape\n",
        "    aspect_ratio = original_width / original_height\n",
        "    if original_width < original_height:\n",
        "        new_width = target_size * aspect_ratio\n",
        "        new_height = target_size\n",
        "    else:\n",
        "        new_height = target_size / aspect_ratio\n",
        "        new_width = target_size\n",
        "    img = tf.image.resize(img, [int(new_height), int(new_width)])\n",
        "\n",
        "    # Pad to target size\n",
        "    img = tf.image.resize_with_crop_or_pad(img, target_size, target_size)\n",
        "\n",
        "    # Convert image to uint8 and encode to JPEG for saving\n",
        "    img = tf.image.convert_image_dtype(img, dtype=tf.uint8)\n",
        "    img_encoded = tf.image.encode_jpeg(img)\n",
        "    return img_encoded\n",
        "\n",
        "def process_and_save_images(source_directory, destination_directory, target_size=224):\n",
        "    if not os.path.exists(destination_directory):\n",
        "        os.makedirs(destination_directory)\n",
        "\n",
        "    for subdir, _, files in os.walk(source_directory):\n",
        "        for file in files:\n",
        "            if file.endswith(('.jpg', '.jpeg', '.png')):\n",
        "                # Construct full file path\n",
        "                source_path = os.path.join(subdir, file)\n",
        "\n",
        "                # Construct destination path\n",
        "                relative_path = os.path.relpath(subdir, source_directory)\n",
        "                dest_subdir = os.path.join(destination_directory, relative_path)\n",
        "                dest_path = os.path.join(dest_subdir, file)\n",
        "\n",
        "                # Ensure destination directory exists\n",
        "                if not os.path.exists(dest_subdir):\n",
        "                    os.makedirs(dest_subdir)\n",
        "\n",
        "                # Process and save the image\n",
        "                processed_img = resize_and_pad_image(source_path, target_size)\n",
        "                tf.io.write_file(dest_path, processed_img)\n",
        "\n",
        "                print(f\"Processed and saved: {dest_path}\")"
      ],
      "metadata": {
        "id": "tT5xQwpfU9bo"
      },
      "execution_count": null,
      "outputs": []
    },
    {
      "cell_type": "code",
      "source": [
        "process_and_save_images(\"drive/MyDrive/scans\", \"drive/MyDrive/new_scans\")"
      ],
      "metadata": {
        "id": "hiFBMhfWU-2M"
      },
      "execution_count": null,
      "outputs": []
    },
    {
      "cell_type": "markdown",
      "source": [
        "# Create Dataset"
      ],
      "metadata": {
        "id": "MY-DxZYhkr7S"
      }
    },
    {
      "cell_type": "code",
      "source": [
        "def load_image(img_path):\n",
        "    img = tf.io.read_file(img_path)\n",
        "    img = tf.image.decode_jpeg(img, channels=3)\n",
        "    img = tf.image.convert_image_dtype(img, dtype=tf.float32)  # Normalize to [0,1]\n",
        "    return img\n",
        "\n",
        "def load_mask(mask_path):\n",
        "    mask = tf.io.read_file(mask_path)\n",
        "    mask = tf.image.decode_jpeg(mask, channels=1)  # Grayscale\n",
        "    mask = tf.image.convert_image_dtype(mask, dtype=tf.float32)  # Normalize to [0,1]\n",
        "    mask = tf.math.round(mask)  # Binarize to 0 or 1 values\n",
        "    return mask\n",
        "\n",
        "def build_dataset_from_directory(directory):\n",
        "    img_paths = []\n",
        "    mask_paths = []\n",
        "    labels = []\n",
        "\n",
        "    # Mapping for classification labels\n",
        "    label_mapping = {\n",
        "        \"benign\": 0,\n",
        "        \"malignant\": 1,\n",
        "        \"normal\": 2\n",
        "    }\n",
        "\n",
        "    for category in [\"benign\", \"malignant\", \"normal\"]:\n",
        "        img_category_dir = os.path.join(directory, category, \"full\")\n",
        "        mask_category_dir = os.path.join(directory, category, \"masks\")\n",
        "\n",
        "        img_files = [f for f in os.listdir(img_category_dir) if f.endswith(('.jpg', '.jpeg', '.png'))]\n",
        "\n",
        "        for img_file in img_files:\n",
        "          img_paths.append(os.path.join(img_category_dir, img_file))\n",
        "\n",
        "          # Adjust the mask filename to match the naming convention\n",
        "          mask_file = os.path.splitext(img_file)[0] + \"_mask\" + os.path.splitext(img_file)[1]\n",
        "\n",
        "          mask_paths.append(os.path.join(mask_category_dir, mask_file))\n",
        "          labels.append(label_mapping[category])\n",
        "\n",
        "    # Convert to tf.data.Dataset\n",
        "    image_dataset = tf.data.Dataset.from_tensor_slices(img_paths).map(load_image, num_parallel_calls=tf.data.AUTOTUNE)\n",
        "    mask_dataset = tf.data.Dataset.from_tensor_slices(mask_paths).map(load_mask, num_parallel_calls=tf.data.AUTOTUNE)\n",
        "    label_dataset = tf.data.Dataset.from_tensor_slices(labels)\n",
        "\n",
        "    # Combine datasets such that the output is (image, (classification_label, mask_label))\n",
        "    dataset = tf.data.Dataset.zip((image_dataset, tf.data.Dataset.zip((label_dataset, mask_dataset))))\n",
        "\n",
        "    return dataset\n",
        "\n",
        "# Usage\n",
        "directory = \"drive/MyDrive/new_scans\"\n",
        "dataset = build_dataset_from_directory(directory)\n",
        "dataset"
      ],
      "metadata": {
        "id": "MmziISObkxlr",
        "colab": {
          "base_uri": "https://localhost:8080/"
        },
        "outputId": "9645b973-7961-4e43-fc05-b5395db5f0de"
      },
      "execution_count": 35,
      "outputs": [
        {
          "output_type": "execute_result",
          "data": {
            "text/plain": [
              "<_ZipDataset element_spec=(TensorSpec(shape=(None, None, 3), dtype=tf.float32, name=None), (TensorSpec(shape=(), dtype=tf.int32, name=None), TensorSpec(shape=(None, None, 1), dtype=tf.float32, name=None)))>"
            ]
          },
          "metadata": {},
          "execution_count": 35
        }
      ]
    },
    {
      "cell_type": "markdown",
      "source": [
        "# Transfer Learning with MobileNetV2"
      ],
      "metadata": {
        "id": "kKfxSgqPuI38"
      }
    },
    {
      "cell_type": "code",
      "source": [
        "from tensorflow.keras.applications import MobileNetV2\n",
        "\n",
        "# Load MobileNetV2 without the top classification layer\n",
        "base_model = MobileNetV2(weights='imagenet', include_top=False, input_shape=(224, 224, 3))"
      ],
      "metadata": {
        "id": "Z7wFvfNmuYsd"
      },
      "execution_count": 36,
      "outputs": []
    },
    {
      "cell_type": "code",
      "source": [
        "from tensorflow.keras.models import Model\n",
        "from tensorflow.keras.layers import Dense, Flatten, GlobalAveragePooling2D, UpSampling2D\n",
        "\n",
        "MASK_SIZE = 28  # Adjust this value based on the desired down-sampled mask size\n",
        "\n",
        "# Common layer for feature extraction\n",
        "x = base_model.output\n",
        "x = GlobalAveragePooling2D()(x)\n",
        "\n",
        "# Task 1: Classification\n",
        "classification_output = Dense(3, activation='softmax', name='classification_output')(x)\n",
        "\n",
        "# Task 2: Mask prediction (downscale and then upscale)\n",
        "# Downscale for mask prediction\n",
        "x_mask_small = Flatten()(base_model.output)\n",
        "mask_output_small = Dense(MASK_SIZE * MASK_SIZE, activation='sigmoid', name='mask_output_small')(x_mask_small)\n",
        "mask_output_small = tf.keras.layers.Reshape((MASK_SIZE, MASK_SIZE, 1))(mask_output_small)\n",
        "\n",
        "# Upscale the mask to the original size\n",
        "mask_output = UpSampling2D(size=(224 // MASK_SIZE, 224 // MASK_SIZE), name='mask_output')(mask_output_small)\n",
        "\n",
        "# Define the model\n",
        "model = Model(inputs=base_model.input, outputs=[classification_output, mask_output])\n",
        "\n",
        "# Freeze layers from the pre-trained model\n",
        "for layer in base_model.layers:\n",
        "    layer.trainable = False"
      ],
      "metadata": {
        "id": "mq4ptcNwvAZl"
      },
      "execution_count": 41,
      "outputs": []
    },
    {
      "cell_type": "code",
      "source": [
        "losses = {\n",
        "    'classification_output': 'sparse_categorical_crossentropy',\n",
        "    'mask_output': 'binary_crossentropy'\n",
        "}\n",
        "\n",
        "loss_weights = {\n",
        "    'classification_output': 1.0,\n",
        "    'mask_output': 1.0\n",
        "}\n",
        "\n",
        "model.compile(optimizer='adam', loss=losses, loss_weights=loss_weights, metrics=['accuracy'])"
      ],
      "metadata": {
        "id": "csHo1EkrNeGk"
      },
      "execution_count": 42,
      "outputs": []
    },
    {
      "cell_type": "code",
      "source": [
        "dataset = dataset.shuffle(buffer_size=1000)\n",
        "num_validation_samples = int(0.2 * 780)  # 20% of 780 images\n",
        "num_training_samples = 780 - num_validation_samples\n",
        "\n",
        "train_dataset = dataset.take(num_training_samples)\n",
        "val_dataset = dataset.skip(num_training_samples)\n",
        "\n",
        "batch_size = 32\n",
        "\n",
        "train_dataset = train_dataset.batch(batch_size).prefetch(tf.data.AUTOTUNE)\n",
        "val_dataset = val_dataset.batch(batch_size).prefetch(tf.data.AUTOTUNE)"
      ],
      "metadata": {
        "id": "f42rap_IN68c"
      },
      "execution_count": 43,
      "outputs": []
    },
    {
      "cell_type": "code",
      "source": [
        "epochs = 20\n",
        "history = model.fit(train_dataset, validation_data=val_dataset, epochs=epochs)"
      ],
      "metadata": {
        "colab": {
          "base_uri": "https://localhost:8080/"
        },
        "id": "muDBxIM0n5rV",
        "outputId": "2caadd88-526a-4dbc-8c33-bf1d64030542"
      },
      "execution_count": 44,
      "outputs": [
        {
          "output_type": "stream",
          "name": "stdout",
          "text": [
            "Epoch 1/20\n",
            "20/20 [==============================] - 6s 124ms/step - loss: 2.0187 - classification_output_loss: 1.1420 - mask_output_loss: 0.8767 - classification_output_accuracy: 0.5096 - mask_output_accuracy: 0.9146 - val_loss: 1.8519 - val_classification_output_loss: 0.8755 - val_mask_output_loss: 0.9764 - val_classification_output_accuracy: 0.5705 - val_mask_output_accuracy: 0.9323\n",
            "Epoch 2/20\n",
            "20/20 [==============================] - 2s 76ms/step - loss: 1.5901 - classification_output_loss: 0.7521 - mask_output_loss: 0.8380 - classification_output_accuracy: 0.6378 - mask_output_accuracy: 0.9418 - val_loss: 1.3773 - val_classification_output_loss: 0.6112 - val_mask_output_loss: 0.7661 - val_classification_output_accuracy: 0.7436 - val_mask_output_accuracy: 0.9472\n",
            "Epoch 3/20\n",
            "20/20 [==============================] - 2s 74ms/step - loss: 1.4733 - classification_output_loss: 0.6446 - mask_output_loss: 0.8287 - classification_output_accuracy: 0.7019 - mask_output_accuracy: 0.9433 - val_loss: 1.3027 - val_classification_output_loss: 0.5915 - val_mask_output_loss: 0.7112 - val_classification_output_accuracy: 0.7500 - val_mask_output_accuracy: 0.9517\n",
            "Epoch 4/20\n",
            "20/20 [==============================] - 2s 73ms/step - loss: 1.3995 - classification_output_loss: 0.5790 - mask_output_loss: 0.8205 - classification_output_accuracy: 0.7532 - mask_output_accuracy: 0.9446 - val_loss: 1.3072 - val_classification_output_loss: 0.6277 - val_mask_output_loss: 0.6795 - val_classification_output_accuracy: 0.6923 - val_mask_output_accuracy: 0.9541\n",
            "Epoch 5/20\n",
            "20/20 [==============================] - 2s 74ms/step - loss: 1.3246 - classification_output_loss: 0.5391 - mask_output_loss: 0.7855 - classification_output_accuracy: 0.7821 - mask_output_accuracy: 0.9471 - val_loss: 1.2642 - val_classification_output_loss: 0.4670 - val_mask_output_loss: 0.7972 - val_classification_output_accuracy: 0.8077 - val_mask_output_accuracy: 0.9469\n",
            "Epoch 6/20\n",
            "20/20 [==============================] - 2s 71ms/step - loss: 1.2774 - classification_output_loss: 0.4916 - mask_output_loss: 0.7858 - classification_output_accuracy: 0.8109 - mask_output_accuracy: 0.9474 - val_loss: 1.3804 - val_classification_output_loss: 0.5459 - val_mask_output_loss: 0.8345 - val_classification_output_accuracy: 0.7500 - val_mask_output_accuracy: 0.9444\n",
            "Epoch 7/20\n",
            "20/20 [==============================] - 2s 71ms/step - loss: 1.2293 - classification_output_loss: 0.4772 - mask_output_loss: 0.7521 - classification_output_accuracy: 0.8125 - mask_output_accuracy: 0.9498 - val_loss: 1.1371 - val_classification_output_loss: 0.4537 - val_mask_output_loss: 0.6834 - val_classification_output_accuracy: 0.8526 - val_mask_output_accuracy: 0.9544\n",
            "Epoch 8/20\n",
            "20/20 [==============================] - 2s 75ms/step - loss: 1.2271 - classification_output_loss: 0.4483 - mask_output_loss: 0.7788 - classification_output_accuracy: 0.8333 - mask_output_accuracy: 0.9480 - val_loss: 1.1222 - val_classification_output_loss: 0.4150 - val_mask_output_loss: 0.7072 - val_classification_output_accuracy: 0.8397 - val_mask_output_accuracy: 0.9529\n",
            "Epoch 9/20\n",
            "20/20 [==============================] - 2s 74ms/step - loss: 1.2133 - classification_output_loss: 0.4317 - mask_output_loss: 0.7816 - classification_output_accuracy: 0.8413 - mask_output_accuracy: 0.9479 - val_loss: 1.1411 - val_classification_output_loss: 0.3859 - val_mask_output_loss: 0.7553 - val_classification_output_accuracy: 0.8846 - val_mask_output_accuracy: 0.9497\n",
            "Epoch 10/20\n",
            "20/20 [==============================] - 2s 72ms/step - loss: 1.1962 - classification_output_loss: 0.4220 - mask_output_loss: 0.7741 - classification_output_accuracy: 0.8462 - mask_output_accuracy: 0.9485 - val_loss: 1.1892 - val_classification_output_loss: 0.3430 - val_mask_output_loss: 0.8461 - val_classification_output_accuracy: 0.9038 - val_mask_output_accuracy: 0.9436\n",
            "Epoch 11/20\n",
            "20/20 [==============================] - 2s 72ms/step - loss: 1.1658 - classification_output_loss: 0.3973 - mask_output_loss: 0.7685 - classification_output_accuracy: 0.8622 - mask_output_accuracy: 0.9489 - val_loss: 1.2030 - val_classification_output_loss: 0.3620 - val_mask_output_loss: 0.8410 - val_classification_output_accuracy: 0.8910 - val_mask_output_accuracy: 0.9443\n",
            "Epoch 12/20\n",
            "20/20 [==============================] - 2s 73ms/step - loss: 1.1344 - classification_output_loss: 0.3755 - mask_output_loss: 0.7589 - classification_output_accuracy: 0.8686 - mask_output_accuracy: 0.9496 - val_loss: 1.0781 - val_classification_output_loss: 0.3592 - val_mask_output_loss: 0.7190 - val_classification_output_accuracy: 0.8782 - val_mask_output_accuracy: 0.9521\n",
            "Epoch 13/20\n",
            "20/20 [==============================] - 3s 95ms/step - loss: 1.1721 - classification_output_loss: 0.3673 - mask_output_loss: 0.8048 - classification_output_accuracy: 0.8654 - mask_output_accuracy: 0.9466 - val_loss: 1.0801 - val_classification_output_loss: 0.3260 - val_mask_output_loss: 0.7541 - val_classification_output_accuracy: 0.8718 - val_mask_output_accuracy: 0.9497\n",
            "Epoch 14/20\n",
            "20/20 [==============================] - 2s 80ms/step - loss: 1.1242 - classification_output_loss: 0.3642 - mask_output_loss: 0.7599 - classification_output_accuracy: 0.8670 - mask_output_accuracy: 0.9495 - val_loss: 1.2006 - val_classification_output_loss: 0.3791 - val_mask_output_loss: 0.8215 - val_classification_output_accuracy: 0.8590 - val_mask_output_accuracy: 0.9454\n",
            "Epoch 15/20\n",
            "20/20 [==============================] - 2s 72ms/step - loss: 1.1467 - classification_output_loss: 0.3508 - mask_output_loss: 0.7958 - classification_output_accuracy: 0.8798 - mask_output_accuracy: 0.9472 - val_loss: 1.2977 - val_classification_output_loss: 0.3577 - val_mask_output_loss: 0.9400 - val_classification_output_accuracy: 0.8846 - val_mask_output_accuracy: 0.9379\n",
            "Epoch 16/20\n",
            "20/20 [==============================] - 2s 69ms/step - loss: 1.1203 - classification_output_loss: 0.3472 - mask_output_loss: 0.7732 - classification_output_accuracy: 0.8766 - mask_output_accuracy: 0.9488 - val_loss: 0.9850 - val_classification_output_loss: 0.2994 - val_mask_output_loss: 0.6856 - val_classification_output_accuracy: 0.9103 - val_mask_output_accuracy: 0.9546\n",
            "Epoch 17/20\n",
            "20/20 [==============================] - 2s 71ms/step - loss: 1.1188 - classification_output_loss: 0.3435 - mask_output_loss: 0.7753 - classification_output_accuracy: 0.8718 - mask_output_accuracy: 0.9487 - val_loss: 1.0524 - val_classification_output_loss: 0.3312 - val_mask_output_loss: 0.7212 - val_classification_output_accuracy: 0.8782 - val_mask_output_accuracy: 0.9520\n",
            "Epoch 18/20\n",
            "20/20 [==============================] - 2s 70ms/step - loss: 1.1024 - classification_output_loss: 0.3162 - mask_output_loss: 0.7862 - classification_output_accuracy: 0.8878 - mask_output_accuracy: 0.9479 - val_loss: 0.9889 - val_classification_output_loss: 0.2674 - val_mask_output_loss: 0.7215 - val_classification_output_accuracy: 0.9167 - val_mask_output_accuracy: 0.9523\n",
            "Epoch 19/20\n",
            "20/20 [==============================] - 2s 70ms/step - loss: 1.0561 - classification_output_loss: 0.3034 - mask_output_loss: 0.7528 - classification_output_accuracy: 0.9071 - mask_output_accuracy: 0.9501 - val_loss: 1.0949 - val_classification_output_loss: 0.3427 - val_mask_output_loss: 0.7522 - val_classification_output_accuracy: 0.8910 - val_mask_output_accuracy: 0.9502\n",
            "Epoch 20/20\n",
            "20/20 [==============================] - 2s 76ms/step - loss: 1.0843 - classification_output_loss: 0.3074 - mask_output_loss: 0.7768 - classification_output_accuracy: 0.9022 - mask_output_accuracy: 0.9486 - val_loss: 1.0100 - val_classification_output_loss: 0.2466 - val_mask_output_loss: 0.7633 - val_classification_output_accuracy: 0.9423 - val_mask_output_accuracy: 0.9495\n"
          ]
        }
      ]
    },
    {
      "cell_type": "code",
      "source": [
        "val_data = list(val_dataset.unbatch().as_numpy_iterator())\n",
        "val_images = np.array([item[0] for item in val_data])\n",
        "val_masks = np.array([item[1][1] for item in val_data])\n",
        "val_labels = np.array([item[1][0] for item in val_data])\n",
        "\n",
        "# Predict using the model\n",
        "predicted_outputs = model.predict(val_images)\n",
        "predicted_classifications = np.argmax(predicted_outputs[0], axis=1)"
      ],
      "metadata": {
        "colab": {
          "base_uri": "https://localhost:8080/"
        },
        "id": "eDy9ztmQric5",
        "outputId": "9570c693-78c0-46f5-cf2e-28711f656930"
      },
      "execution_count": 53,
      "outputs": [
        {
          "output_type": "stream",
          "name": "stdout",
          "text": [
            "5/5 [==============================] - 0s 20ms/step\n"
          ]
        }
      ]
    },
    {
      "cell_type": "code",
      "source": [
        "from sklearn.metrics import confusion_matrix, ConfusionMatrixDisplay\n",
        "import matplotlib.pyplot as plt\n",
        "\n",
        "cm = confusion_matrix(val_labels, predicted_classifications)\n",
        "classes = [\"benign\", \"malignant\", \"normal\"]\n",
        "cm_display = ConfusionMatrixDisplay(cm, display_labels=classes).plot(cmap=plt.cm.Blues)"
      ],
      "metadata": {
        "colab": {
          "base_uri": "https://localhost:8080/",
          "height": 449
        },
        "id": "_wO9Migurjth",
        "outputId": "85c26cca-b66b-49d9-8376-ee690ec2248d"
      },
      "execution_count": 54,
      "outputs": [
        {
          "output_type": "display_data",
          "data": {
            "text/plain": [
              "<Figure size 640x480 with 2 Axes>"
            ],
            "image/png": "[encoded data removed]"
          },
          "metadata": {}
        }
      ]
    },
    {
      "cell_type": "markdown",
      "source": [
        "# Fine-tuning"
      ],
      "metadata": {
        "id": "MBd8EWZMyh7G"
      }
    },
    {
      "cell_type": "code",
      "source": [
        "# Unfreeze all layers of the base model or just some of them\n",
        "for layer in base_model.layers:\n",
        "    layer.trainable = True\n",
        "\n",
        "# Use a smaller learning rate\n",
        "optimizer = Adam(learning_rate=0.0001)\n",
        "\n",
        "# Compile the model again\n",
        "model.compile(optimizer=optimizer, loss=losses, loss_weights=loss_weights, metrics=['accuracy'])\n",
        "\n",
        "# Continue training\n",
        "additional_epochs = 5\n",
        "history_finetune = model.fit(train_dataset, validation_data=val_dataset, epochs=additional_epochs)"
      ],
      "metadata": {
        "colab": {
          "base_uri": "https://localhost:8080/"
        },
        "id": "72759deDyg1S",
        "outputId": "80950f1f-badc-4d12-8d56-06fa0df91de0"
      },
      "execution_count": 55,
      "outputs": [
        {
          "output_type": "stream",
          "name": "stdout",
          "text": [
            "Epoch 1/5\n",
            "20/20 [==============================] - 29s 173ms/step - loss: 2.0752 - classification_output_loss: 1.2458 - mask_output_loss: 0.8294 - classification_output_accuracy: 0.6619 - mask_output_accuracy: 0.9389 - val_loss: 1.2233 - val_classification_output_loss: 0.4936 - val_mask_output_loss: 0.7297 - val_classification_output_accuracy: 0.7756 - val_mask_output_accuracy: 0.9503\n",
            "Epoch 2/5\n",
            "20/20 [==============================] - 3s 107ms/step - loss: 1.0550 - classification_output_loss: 0.2674 - mask_output_loss: 0.7876 - classification_output_accuracy: 0.8974 - mask_output_accuracy: 0.9419 - val_loss: 1.4323 - val_classification_output_loss: 0.6564 - val_mask_output_loss: 0.7760 - val_classification_output_accuracy: 0.7179 - val_mask_output_accuracy: 0.9473\n",
            "Epoch 3/5\n",
            "20/20 [==============================] - 3s 107ms/step - loss: 0.8778 - classification_output_loss: 0.0948 - mask_output_loss: 0.7830 - classification_output_accuracy: 0.9744 - mask_output_accuracy: 0.9435 - val_loss: 1.5201 - val_classification_output_loss: 0.6748 - val_mask_output_loss: 0.8454 - val_classification_output_accuracy: 0.7628 - val_mask_output_accuracy: 0.9425\n",
            "Epoch 4/5\n",
            "20/20 [==============================] - 3s 104ms/step - loss: 0.8487 - classification_output_loss: 0.0594 - mask_output_loss: 0.7894 - classification_output_accuracy: 0.9904 - mask_output_accuracy: 0.9435 - val_loss: 1.2997 - val_classification_output_loss: 0.5302 - val_mask_output_loss: 0.7695 - val_classification_output_accuracy: 0.7372 - val_mask_output_accuracy: 0.9472\n",
            "Epoch 5/5\n",
            "20/20 [==============================] - 3s 103ms/step - loss: 0.7980 - classification_output_loss: 0.0298 - mask_output_loss: 0.7682 - classification_output_accuracy: 0.9952 - mask_output_accuracy: 0.9458 - val_loss: 1.2648 - val_classification_output_loss: 0.4213 - val_mask_output_loss: 0.8435 - val_classification_output_accuracy: 0.8269 - val_mask_output_accuracy: 0.9428\n"
          ]
        }
      ]
    },
    {
      "cell_type": "code",
      "source": [
        "# Predict using the model\n",
        "predicted_outputs = model.predict(val_images)\n",
        "predicted_classifications = np.argmax(predicted_outputs[0], axis=1)\n",
        "cm = confusion_matrix(val_labels, predicted_classifications)\n",
        "classes = [\"benign\", \"malignant\", \"normal\"]\n",
        "cm_display = ConfusionMatrixDisplay(cm, display_labels=classes).plot(cmap=plt.cm.Blues)"
      ],
      "metadata": {
        "colab": {
          "base_uri": "https://localhost:8080/",
          "height": 466
        },
        "id": "klpeQm8py6mK",
        "outputId": "a4b51131-f4e8-48bf-fbad-526589a1d5aa"
      },
      "execution_count": 56,
      "outputs": [
        {
          "output_type": "stream",
          "name": "stdout",
          "text": [
            "5/5 [==============================] - 1s 20ms/step\n"
          ]
        },
        {
          "output_type": "display_data",
          "data": {
            "text/plain": [
              "<Figure size 640x480 with 2 Axes>"
            ],
            "image/png": "[encoded data removed]"
          },
          "metadata": {}
        }
      ]
    }
  ]
}